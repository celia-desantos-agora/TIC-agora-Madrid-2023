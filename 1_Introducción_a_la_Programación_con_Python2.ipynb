{
  "cells": [
    {
      "cell_type": "markdown",
      "metadata": {
        "id": "qliXmtgXzm5h"
      },
      "source": [
        "# Introducción a Python Ágora Madrid\n",
        "\n",
        "\\\n",
        "<img height=\"150\" src=\"https://asibi.org/wp-content/uploads/2019/10/Logo_AISM_Positivo_Vertical.png\">\n",
        "\n",
        "\n",
        "\n",
        "**Comienzo:**\n",
        "*     Introducción a la programación en Python.\n",
        "*     Variables.\n",
        "*     Operadores.\n",
        "*     Control de flujo (if, while, for).\n",
        "*     Funciones.\n",
        "\n",
        "\n",
        "**Nota 1:** Para poder guardar los ejercicios que resolvais os recomiendo guardar una copia del documento en Google Drive. La próxima vez que queráis entrar a la clase y continuar con vuestro progreso podéis acceder desde allí, en lugar de usar el link original.\n",
        "\n",
        "\n",
        "<img height=\"300\" src=\"https://raw.githubusercontent.com/IEEESBITBA/Curso-python/master/_assets/guardar_copia_en_drive.png\">\n",
        "\n"
      ]
    },
    {
      "cell_type": "markdown",
      "metadata": {
        "id": "-MOuLSRt4lqA"
      },
      "source": [
        "# Uso de Google Colab\n",
        "\n",
        "Uno puede elegir qué plataforma usar a la hora de programar sus proyectos dependiendo de su experiencia, gustos y costumbres. Recomiendo iniciarse utilizando Google Colab, una plataforma gratuita y simple de utilizar que nos brinda Google. \n",
        "\n",
        "Posteriormente cuando ya tengáis más experiencia, y si así lo deseáis, podéis descargaros y utilizar otros programas como PyCharm, Visual Studio Code o Sublime. Si bien son un poquito más completos, se requiere descargarlos e instalar el compilador de Python. Brindan muchas más herramientas y posibilidades que esta plataforma.\n"
      ]
    },
    {
      "cell_type": "markdown",
      "metadata": {
        "id": "O63cYKbC1ABf"
      },
      "source": [
        "# Clase 1"
      ]
    },
    {
      "cell_type": "markdown",
      "metadata": {
        "id": "FKxyOvV40jf8"
      },
      "source": [
        "## Introducción a la programación\n",
        "\n",
        "La programación es el proceso que se utiliza para diseñar e implementar un programa de computadora, valiéndose de algún lenguaje que permita comunicar una serie de acciones que se requiere que la computadora realice. Podemos pensar que es una caja negra que recibe alguna información, la cual es llamada *input* (entrada), realiza alguna acción, y devuelve información, la cual es llamada *output* (salida).\n",
        "\n",
        "![Black Box](https://raw.githubusercontent.com/IEEESBITBA/Curso-Python/master/_assets/BlackBox.png)\n",
        "\n",
        "## Lenguajes de programación\n",
        "Un lenguaje de programación es un [lenguaje formal](https://es.wikipedia.org/wiki/Lenguaje_formal) que proporciona una serie de instrucciones, las cuales permiten a un programador escribir secuencias de órdenes para controlar el comportamiento físico y lógico de una computadora, con el objetivo de que produzca diversas acciones deseadas por el programador (¡y los usuarios!).\n",
        "\n",
        "Algunos de los lenguajes mas populares en los últimos tiempos (lejos de ser los únicos) son Python, Java, C++, JavaScript, PHP, etc.\n",
        "\n",
        "<img src=\"https://i.imgur.com/12T9u0f.jpg\" height=\"300\" alt = \"Collage de lenguajes de programación populares\" title=\"Hay varios otros lenguajes, como Go, Go!, Gosu etc. \">\n",
        "\n"
      ]
    },
    {
      "cell_type": "markdown",
      "metadata": {
        "id": "ZqGv35XH1Y1G"
      },
      "source": [
        "### ¿Por qué Python?\n",
        "Elegimos Python porque es uno de los lenguajes de programación con reglas más simples e intuitivas que existen; esto explica la creciente popularidad que ha tenido en los ultimos tiempos.\n",
        "\n",
        "A pesar de su simpleza, es muy utilizado tanto en la industria para servidores y servicios web, así como también en el área académica para redes neuronales, deep learning, simulación, etc.\n",
        "\n",
        "La comunidad de Python es una de las más grandes. Por lo tanto cualquier duda que tengáis, a partir de ahora, Google es vuestro amigo: podéis buscar la duda que tengáis y seguramente alguien ya haya tenido ese problema. Una de los sitios web más conocidos para este fin es [StackOverflow](https://stackoverflow.com/)."
      ]
    },
    {
      "cell_type": "markdown",
      "metadata": {
        "id": "6AB7wy0q0i9G"
      },
      "source": [
        "## Input, Output y Variables\n"
      ]
    },
    {
      "cell_type": "markdown",
      "metadata": {
        "id": "YSN3o-s_1NL9"
      },
      "source": [
        "### Output\n",
        "\n",
        "El output de un programa es la manera de transmitir información hacia el entorno externo. Por ejemplo, puede escribir en la consola de la computadora, puede generar una imagen, reproducir un sonido, etc. En Google Colaboratory veremos el output del programa debajo de la celda donde fue ejecutado.\n",
        "\n",
        "Para poder mostrar texto, podemos utilizar la instrucción **print( )** poniendo lo que deseemos mostrar entre los paréntesis. Más adelante veremos cómo se pueden generar imágenes, archivos y demás.\n",
        "\n",
        "**Tip**: En la esquina superior izquierda del cuadro de texto con el código hay un botón para ejecutar el programa"
      ]
    },
    {
      "cell_type": "code",
      "execution_count": null,
      "metadata": {
        "colab": {
          "base_uri": "https://localhost:8080/"
        },
        "id": "BZKuwhnM1fMF",
        "outputId": "2298edb3-1429-4c9a-a27c-9de84efac6cb"
      },
      "outputs": [
        {
          "name": "stdout",
          "output_type": "stream",
          "text": [
            "123\n",
            "Hola, cómo estas?\n",
            "Buen día\n"
          ]
        }
      ],
      "source": [
        "print(123)\n",
        "print(\"Hola, cómo estas?\")\n",
        "print('Buen día')"
      ]
    },
    {
      "cell_type": "markdown",
      "metadata": {
        "id": "z3JLrNQRca5r"
      },
      "source": [
        "Notad en el ejemplo que para escribir texto se debe indicar con comillas simples o dobles y para escribir números no se usan comillas.\n",
        "\n",
        "Otra cosa importante para notar es que cada instrucción en Python se escribe en un renglón distinto, y se ejecutarán una por una de arriba para abajo.\n",
        "\n",
        "Cada instrucción **print( )** muestra el contenido indicado en un renglón nuevo, pero también admite mostrar mensajes en un mismo renglón si se indican diferentes parámetros separados con comas:"
      ]
    },
    {
      "cell_type": "code",
      "execution_count": null,
      "metadata": {
        "colab": {
          "base_uri": "https://localhost:8080/"
        },
        "id": "ShSdIZTQeP_h",
        "outputId": "4b1adf83-6379-4f93-befb-fd45c6afa828"
      },
      "outputs": [
        {
          "name": "stdout",
          "output_type": "stream",
          "text": [
            "1 2 3\n",
            "Curso de Python\n",
            "Uno: 1  Dos: 2  Tres: 3\n"
          ]
        }
      ],
      "source": [
        "print(1, 2, 3)\n",
        "print(\"Curso\", \"de\", \"Python\")\n",
        "print('Uno:', 1, ' Dos:', 2, ' Tres:', 3)"
      ]
    },
    {
      "cell_type": "markdown",
      "metadata": {
        "id": "Pu5VvBmr1ieM"
      },
      "source": [
        "### Variables\n",
        "\n",
        "Para poder realizar tareas es necesario guardar en la memoria de la computadora los datos que necesita mi aplicación para funcionar. Por ejemplo, en este momento tu navegador web sabe cuántas pestañas hay abiertas y qué página se abrió en cada una, sabe en qué posición de la página estás y qué usuario utilizaste para entrar a Google Colab. Todos estos datos están almacenados en la memoria de la computadora y el navegador lee estos datos y los modifica cada vez que lo requiere.\n",
        "\\\n",
        "En programación, se le asigna un nombre o apodo a cada pequeño segmento de la memoria que almacena un dato o un valor. De esta forma en el programa cada vez que se usa este nombre se esta refiriendo al valor del dato almacenado en la memoria. Este es el concepto de \"variable\".\n",
        "\\\n",
        "En python esto se logra de la siguiente manera:"
      ]
    },
    {
      "cell_type": "code",
      "execution_count": null,
      "metadata": {
        "colab": {
          "base_uri": "https://localhost:8080/"
        },
        "id": "mFOx8nO71nL-",
        "outputId": "ed0b6fc4-a0e5-487b-9d0f-81aafa91167b"
      },
      "outputs": [
        {
          "name": "stdout",
          "output_type": "stream",
          "text": [
            "7\n"
          ]
        }
      ],
      "source": [
        "x = 7\n",
        "print(x)"
      ]
    },
    {
      "cell_type": "markdown",
      "metadata": {
        "id": "NSJEwTaD1puN"
      },
      "source": [
        "Este ejemplo utilizará un bloque de la memoria para almacenar el número `5`, luego le asigna a este bloque el nombre `x` y por lo tanto a partir de entonces cada vez que se utiliza la palabra `x` en realidad nos referimos al valor almacenado dentro del bloque de memoria, al cual apodamos `x`.\n",
        "\n",
        "**¿Cómo se interpreta una expresión de asignación?**\n",
        "\n",
        "Es muy importante entender cómo leer una expresión de asignación.\n",
        "Cuando recorras y analices tu código, es preferible que entiendas el significado de la operación:\n",
        "\n",
        "*nombre* = *expresión*\n",
        "\n",
        "Como:\n",
        "* Se **asigna** el valor de *expresión* a *nombre*.\n",
        "\n",
        "Y no como:\n",
        "* ~~*variable* es *igual* a *expresión*~~.\n",
        "\n",
        "**Ejemplos**\n",
        "\n",
        "En estas variables podemos guardar lo que sea necesario para ejecutar el programa, por ejemplo si necesitamos guardar texto se indica con: \"(texto)\" o '(texto)'."
      ]
    },
    {
      "cell_type": "code",
      "execution_count": null,
      "metadata": {
        "colab": {
          "base_uri": "https://localhost:8080/"
        },
        "id": "n0hO9z801r82",
        "outputId": "6990052c-6f50-48c3-849b-9e3740801fbc"
      },
      "outputs": [
        {
          "name": "stdout",
          "output_type": "stream",
          "text": [
            "Hola\n",
            "Adios\n",
            "123\n"
          ]
        }
      ],
      "source": [
        "x = 'Hola'\n",
        "y = \"Adios\"\n",
        "z = 123\n",
        "print(x)\n",
        "print(y)\n",
        "print(z)"
      ]
    },
    {
      "cell_type": "markdown",
      "metadata": {
        "id": "NWySnvJu1ti1"
      },
      "source": [
        "Notad que la instrucción **print( )** permite mostrar el contenido de una variable. Cuando ponemos **print(x)** no imprime la letra *x* sino que imprime el contenido de **x**. Es por esto que para eliminar la confusión se usan comillas cuando queremos mostrar texto y no el contenido de una variable.\n",
        "\n",
        "Es importante tener en cuenta que no es necesario aclarar de antemano si las variables son textos (Strings) o números, el lenguaje lo puede identificar automáticamente\n",
        "\n",
        "**Reglas para el nombre de una variable:**\n",
        "\n",
        "- Debe empezar con una letra (a-z, A-Z) o un guión bajo (_).\n",
        "- Los otros caracteres pueden ser letras, numeros o guión bajo.\n",
        "- Distingue mayúsculas de minúsculas.\n",
        "- Existen palabras reservadas que no se pueden usar como nombre de variable porque Python las usa para otras cosas. Por ejemplo el nombre de una variable no puede ser print.\n",
        "\n",
        "**Prolijidad y buenas prácticas**\n",
        "\n",
        "Cuando se escribe código, no solamente se está utilizando un lenguaje de programación para poder aprovechar los recursos de una computadora. Al igual que cualquier otra actividad humana, la tarea de programar se vuelve más interesante cuando se realiza junto a otras personas.\n",
        "\n",
        "De hecho, para realizar ciertos trabajos de mucha complejidad, no es posible que un único individuo se encargue de escribir todo el código. Por eso, es importante ser prolijos y utilizar buenas prácticas de programación, para que otras personas puedan entender nuestro código (incluído nuestro yo del futuro) y de esa forma corregirlo o agregarle funcionalidad.\n",
        "\n",
        "Unos tips  que ya pueden a empezar a usar son:\n",
        "* Separar el nombre de la variable, el operador de asignación y la expresión a evaluar con espacios.\n",
        "\n",
        "Es decir, en lugar de escribir:\n",
        "```python\n",
        "x=\"Hola mundo!\"\n",
        "```\n",
        "Es mejor escribir:\n",
        "```python\n",
        "x = \"Hola mundo!\"\n",
        "```\n",
        "\n",
        "* Elegir nombres de variables descriptivos, aunque nos de pereza escribirlos.\n",
        "\n",
        "```python\n",
        "radio = 5\n",
        "pi = 3.14\n",
        "perimetro = 2 * pi * radio\n",
        "areaEsfera = 4 * pi * radio**2\n",
        "volumenEsfera = 4 / 3 * pi * radio**3\n",
        "```\n",
        "\n"
      ]
    },
    {
      "cell_type": "markdown",
      "metadata": {
        "id": "paZabFJRGXJu"
      },
      "source": [
        "#### **Mini-desafío:** Output y variables\n",
        "\n",
        "Diseñar un programa en el cual se definan exactamente 2 variables.\n",
        "- La primera se debe llamar `nombre` y debe contener tu nombre (entre comillas).\n",
        "- La segunda se debe llamar `edad` y debe contener tu edad (como un número simple, sin comillas).\n",
        "\n",
        "Por último el programa debe mostrar en pantalla la siguiente frase en una sóla línea: \n",
        "> (nombre) tiene (edad) años\n",
        "\n",
        "Por ejemplo:\n",
        "> Mati tiene 5 años\n",
        "\n",
        "**Tip:** La instrucción print() admite mostrar mensajes en un mismo renglón si se indican diferentes parámetros separados con comas.\n"
      ]
    },
    {
      "cell_type": "code",
      "execution_count": null,
      "metadata": {
        "colab": {
          "base_uri": "https://localhost:8080/"
        },
        "id": "T8-PPQf_HCE9",
        "outputId": "f12aadae-16e2-4337-db01-4b29c50d2567"
      },
      "outputs": [
        {
          "name": "stdout",
          "output_type": "stream",
          "text": [
            "Lola tiene 17 años\n"
          ]
        }
      ],
      "source": [
        "nombre = \"Lola\"\n",
        "edad = 17\n",
        "print(nombre,\"tiene\", edad, \"años\")"
      ]
    },
    {
      "cell_type": "markdown",
      "metadata": {
        "id": "Icjqr3dn1vn0"
      },
      "source": [
        "### Input\n",
        "El input de un programa es la manera de recibir información del entorno externo al programa. Esto puede ser un usuario, un archivo, otro programa, un sensor, etc. \n",
        "\n",
        "Para ingresar una variable podemos usar **input( \"Texto a mostrar:\" )**. Corran este código ustedes para que les de una pequeña casilla donde escribir, y luego el programa escribirá lo que ustedes ingresaron. "
      ]
    },
    {
      "cell_type": "code",
      "execution_count": null,
      "metadata": {
        "id": "THDSQvb71y0O"
      },
      "outputs": [],
      "source": [
        "# Esto es un comentario!\n",
        "# Los comentarios no son ejecutados por Python\n",
        "# De esta forma el programador puede hacer una nota para humanos\n",
        "\n",
        "nombre = input(\"Ingrese su nombre: \")\n",
        "edad = int( input(\"Ingrese su edad: \") )\n",
        "\n",
        "print(\"nombre:\", nombre)\n",
        "print(\"edad:\", edad)"
      ]
    },
    {
      "cell_type": "markdown",
      "metadata": {
        "id": "vcFTFQcD15On"
      },
      "source": [
        "Un detalle a tener en cuenta es que la información ingresada por el usuario usando **input( )** será interpretada como texto, no como un número. Por eso cuando queremos ingresar un número usaremos **int( )** para convertir ese texto al número correspondiente. En la próxima clase quedará claro por qué debemos hacer esto y qué es el tipo de una variable."
      ]
    },
    {
      "cell_type": "markdown",
      "metadata": {
        "id": "PUnb4N8i17ut"
      },
      "source": [
        "## Operaciones básicas con variables\n"
      ]
    },
    {
      "cell_type": "markdown",
      "metadata": {
        "id": "nLIjci3h193F"
      },
      "source": [
        "### Operaciones de modificación\n"
      ]
    },
    {
      "cell_type": "markdown",
      "metadata": {
        "id": "BCGsM4r72Gb2"
      },
      "source": [
        "No sería muy útil un programa si lo único que podemos hacer es guardar en una variable y mostrarla, por lo que existen algunas operaciones básicas que nos permiten modificar el contenido:\n",
        "\n",
        "- Sumar dos variables ( $a+b$ ):\n",
        "\n",
        "  `a + b`\n",
        "\n",
        "- Restar dos variables ( $a-b$ ):\n",
        "\n",
        "  `a − b`\n",
        "\n",
        "- Multiplicar dos variables ( $a\\cdot b$ ):\n",
        "\n",
        "  `a * b`\n",
        "\n",
        "- Dividir una variable por la otra ( $a\\div b$ ):\n",
        "\n",
        "  `a / b` \n",
        "\n",
        "- Una variable elevada a la otra ( $a^b$ ): \n",
        "\n",
        "  `a ** b`\n",
        "\n",
        "- Asignarle un valor a una variable ( $a\\leftarrow b$ ):\n",
        "\n",
        "  `a = b`\n",
        "  \n",
        "\n",
        "¿Cual será la salida del siguiente programa?"
      ]
    },
    {
      "cell_type": "code",
      "execution_count": null,
      "metadata": {
        "id": "3IYJ3nrV2Hpt"
      },
      "outputs": [],
      "source": [
        "x = 3\n",
        "y = -2\n",
        "y = x*y\n",
        "x = x**2\n",
        "print(\"y =\", y)\n",
        "print(\"x =\", x)"
      ]
    },
    {
      "cell_type": "markdown",
      "metadata": {
        "id": "Ba9u3d112KIu"
      },
      "source": [
        "Python nos permite ahorrar código combinando el operando **=** con alguno de los anteriormente vistos:\n",
        "\n",
        "*   Suma a la varaible ( $a \\leftarrow a+ b$ ):\n",
        "\n",
        "  `a += b`\n",
        "\n",
        "*   Resta a la variable ( $a \\leftarrow a- b$ ):\n",
        "\n",
        "  `a -= b`\n",
        "\n",
        "*   Multiplica a la variable ( $a \\leftarrow a\\cdot b$ ):\n",
        "\n",
        "  `a *= b`\n",
        "\n",
        "*   Divide a la variable ( $a \\leftarrow a\\div b$ ):\n",
        "\n",
        "  `a /= b`\n",
        "\n",
        "¿Cual será la salida del siguiente codigo?"
      ]
    },
    {
      "cell_type": "code",
      "execution_count": null,
      "metadata": {
        "id": "itbgCZWE2nFc"
      },
      "outputs": [],
      "source": [
        "x = 17\n",
        "x += 3\n",
        "x /= 10\n",
        "print(\"x =\",x)"
      ]
    },
    {
      "cell_type": "markdown",
      "metadata": {
        "id": "dKIPJIO0APIu"
      },
      "source": [
        "**Prolijidad y buenas prácticas**\n",
        "Al igual que al asignar, a veces introducir espacios al escribir expresiones vuelve más legible el código.\n",
        "\n",
        "¿Cúal de las siguientes asignaciones te parece más prolija y entendible?\n",
        "\n",
        "```python\n",
        "a = 5+7/4**5*3-7*x+b\n",
        "```\n",
        "```python\n",
        "a = 5 + 7 / 4**5 * 3 - 7 * x + b\n",
        "```"
      ]
    },
    {
      "cell_type": "markdown",
      "metadata": {
        "id": "TrMtUbrt2urw"
      },
      "source": [
        "#### **Mini-desafío:** Operadores\n",
        "\n",
        "1. Diseñar un programa en el cual el usuario ingrese tres números, uno a la vez, y se muestre a la salida el promedio de los tres números.\n",
        "2. Diseñar un programa en el cual el usuario ingrese tres números, uno a la vez, y se muestre a la salida la [media geométrica](https://es.wikipedia.org/wiki/Media_geom%C3%A9trica) de los tres números.\n",
        "\n",
        "  **Tip:** Usando el operador de potencia se puede calcular una raíz cúbica ya que: $\\sqrt[3]{x}=x^{1/3}$"
      ]
    },
    {
      "cell_type": "code",
      "execution_count": null,
      "metadata": {
        "id": "IT-iSniW2v6t"
      },
      "outputs": [],
      "source": [
        "# Escriba aquí su código para la parte 1"
      ]
    },
    {
      "cell_type": "code",
      "execution_count": null,
      "metadata": {
        "id": "xS1O2J43qarx"
      },
      "outputs": [],
      "source": [
        "# Escriba aquí su código para la parte 2"
      ]
    },
    {
      "cell_type": "markdown",
      "metadata": {
        "id": "AuCHBB6d23gk"
      },
      "source": [
        "### Operador módulo\n"
      ]
    },
    {
      "cell_type": "markdown",
      "metadata": {
        "id": "cDafAOFB2_7w"
      },
      "source": [
        "El operador módulo se utiliza con el símbolo **%**, y permite calcular el resto de un numero en la división por otro. Por ejemplo:\n",
        "\n",
        "*   $5$ % $3$ $= 2$\n",
        "*   $17$ % $10$ $= 7$\n",
        "*   $9$ % $6$ $= 3$\n",
        "*   $15$ % $5$ $= 0$\n",
        "\n",
        "Podríamos por ejemplo preguntar si el resto de un numero **x** en la division por **y** es igual a 0 y así saber si **x** es multiplo de **y**:"
      ]
    },
    {
      "cell_type": "code",
      "execution_count": null,
      "metadata": {
        "id": "IFyZa-ie3B9d"
      },
      "outputs": [],
      "source": [
        "x = 27\n",
        "y = 9\n",
        "print(\"Resultado:\", x % y )"
      ]
    },
    {
      "cell_type": "markdown",
      "metadata": {
        "id": "sHDZxJOaEe9C"
      },
      "source": [
        "#### **Mini-desafío:** Módulo\n",
        "\n",
        "Un grupo de alumnos están cansados de estudiar. Se les ocurre que puede ser una buena idea tomarse unos días para tomar sol y hacer ejercicio, pero como no son para nada moderados, deciden organizar una ultramaratón de 4096 kilómetros. La carrera empezará a medianoche, y se cronometra la cantidad de horas que tarda cada corredor en finalizar. Es probable que a los corredores les tome varios días lograr alcanzar la meta.\n",
        "\n",
        "![Marathon](https://raw.githubusercontent.com/IEEESBITBA/Curso-Python/master/_assets/marathon.png)\n",
        "\n",
        "Realizar un programa al cual se ingresa la cantidad de horas que tardó un corredor en alcanzar la meta, y que muestra en pantalla la hora del día a la que llega.\n",
        "\n",
        "**Ejemplos:**\n",
        "- *Input* ← `5`\n",
        "\n",
        "  *Output* → `5` (Como tarda 5 horas, llega a las 5:00)\n",
        "\n",
        "- *Input* ← `20`\n",
        "\n",
        "  *Output* → `20` (Como tarda 20 horas, llega a las 20hs)\n",
        "\n",
        "- *Input* ← `25`\n",
        "\n",
        "  *Output* → `1` (Como tarda 25 horas, llega a la 1:00)\n",
        "\n",
        "- *Input* ← `45`\n",
        "\n",
        "  *Output* → `21` (Como tarda 45 horas, llega a las 21:00)"
      ]
    },
    {
      "cell_type": "code",
      "execution_count": null,
      "metadata": {
        "id": "82dqcMvjH71W"
      },
      "outputs": [],
      "source": []
    },
    {
      "cell_type": "markdown",
      "metadata": {
        "id": "oL48nCbz3Qnt"
      },
      "source": [
        "### Operaciones de comparación\n"
      ]
    },
    {
      "cell_type": "markdown",
      "metadata": {
        "id": "6LrP-ea23Zks"
      },
      "source": [
        "Existen operaciones para comparar propiedades de las variables, que serán especialmente importantes para el próximo tema de la clase. Las principales comparaciones posibles son:\n",
        "\n",
        "*   Menor que ( $a < b$ ):\n",
        "\n",
        " `a < b`\n",
        "\n",
        "*   Mayor que ( $a > b$ ):\n",
        "\n",
        " `a > b`\n",
        "\n",
        "*   Menor o igual que ( $a \\leq b$ ):\n",
        "\n",
        " `a <= b`\n",
        "\n",
        "*   Mayor o igual que ( $a \\geq b$ ):\n",
        "\n",
        " `a >= b`\n",
        "\n",
        "*   Es igual ( $a = b$ ):\n",
        "\n",
        " `a == b` (Ojo: se utilizan 2 símbolos `=` para diferenciarse del operador asignación)\n",
        "\n",
        "*   Es distinto ( $a \\neq b$ ):\n",
        "\n",
        " `a != b`\n",
        "\n",
        "\n",
        "Al comprarar dos números se obtiene True o False (Verdadero o Falso) según si se cumple la condición:"
      ]
    },
    {
      "cell_type": "code",
      "execution_count": null,
      "metadata": {
        "id": "DLNd0IkK3fUF"
      },
      "outputs": [],
      "source": [
        "x = 4\n",
        "print(\"Es x mayor o igual a 4?\", x >= 4)\n",
        "print(\"Es x menor a 3?\", x < 3)"
      ]
    },
    {
      "cell_type": "markdown",
      "metadata": {
        "id": "_NhDBRGW4Du4"
      },
      "source": [
        "También podemos combinar diversas condiciones:\n",
        "\n",
        "*  Si se cumplen las dos condiciones ( $a \\land b$ ):\n",
        "\n",
        "  `a and b`\n",
        "\n",
        "*  Si se cumple alguna de las condiciones ( $ a \\lor b$ ):\n",
        "\n",
        "  `a or b`\n",
        "\n",
        "*  Si no se cumple esa condición ( $ \\overline{a} $ ):\n",
        "\n",
        "  `not a`\n",
        "\n",
        "\n",
        "Veamos un ejemplo:"
      ]
    },
    {
      "cell_type": "code",
      "execution_count": null,
      "metadata": {
        "id": "yXLcUyqR4Fwd"
      },
      "outputs": [],
      "source": [
        "x = int(input(\"Ingrese un numero:\"))\n",
        "y = x > 5 and x < 7\n",
        "z = x > 5 or x < 7\n",
        "k = not x > 5\n",
        "print(\"x > 5 y x < 7?\", y)\n",
        "print(\"x > 5 ó x < 7?\", z)\n",
        "print(\"Es x NO mayor a 5?\", k)"
      ]
    },
    {
      "cell_type": "markdown",
      "metadata": {
        "id": "0XA2fgcf4j5c"
      },
      "source": [
        "Estas condiciones pueden agruparse con ( condicion1 ) **and/or** ( condicion2 ), esto permite chequar condiciones complejas:"
      ]
    },
    {
      "cell_type": "code",
      "execution_count": null,
      "metadata": {
        "id": "CD3MFAO74o-r"
      },
      "outputs": [],
      "source": [
        "x = int(input(\"Ingrese el primer número:\"))\n",
        "y = int(input(\"Ingrese el segundo número:\"))\n",
        "z = ( x > 15 or x < -15) and ( y > 15 or y < -15 )\n",
        "print(\"El valor absoluto de ambos numeros es mayor a 15?\", z)"
      ]
    },
    {
      "cell_type": "markdown",
      "metadata": {
        "id": "YHpg7PptDEkZ"
      },
      "source": [
        "**Prolijidad y buenas prácticas**\n",
        "\n",
        "¿Ven el uso de espacios y paréntesis en las expresiones?\n",
        "\n",
        "Al incrementar la complejidad del código que se escribe no resulta ni sencillo ni práctico crear reglas rígidas que establezcan la forma más prolija de escribir código. Por eso, se apela al sentido común cuando se programa."
      ]
    }
  ],
  "metadata": {
    "colab": {
      "collapsed_sections": [
        "sHDZxJOaEe9C"
      ],
      "provenance": []
    },
    "kernelspec": {
      "display_name": "Python 3.10.4 64-bit",
      "language": "python",
      "name": "python3"
    },
    "language_info": {
      "name": "python",
      "version": "3.10.4"
    },
    "vscode": {
      "interpreter": {
        "hash": "3ad933181bd8a04b432d3370b9dc3b0662ad032c4dfaa4e4f1596c548f763858"
      }
    }
  },
  "nbformat": 4,
  "nbformat_minor": 0
}
